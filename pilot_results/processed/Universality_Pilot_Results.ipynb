{
 "cells": [
  {
   "cell_type": "code",
   "execution_count": 17,
   "metadata": {},
   "outputs": [],
   "source": [
    "import pandas as pd\n",
    "import numpy as np\n",
    "import os\n",
    "import matplotlib.pyplot as plt\n",
    "\n",
    "lang = ['Du', 'En', 'Ge', 'It', 'Ja', 'Sp', 'Ta']"
   ]
  },
  {
   "cell_type": "markdown",
   "metadata": {},
   "source": [
    "We first want to read in the 10 normalized and 10 lowpassed dataframes."
   ]
  },
  {
   "cell_type": "code",
   "execution_count": 18,
   "metadata": {},
   "outputs": [],
   "source": [
    "# Create normalized and lowpassed dataframes\n",
    "li_lp = []\n",
    "li_no = []\n",
    "\n",
    "# Read in data from each individual participant\n",
    "for filename in os.listdir('./'):\n",
    "    if filename.startswith(\"lp300\") and filename.endswith(\".csv\"):\n",
    "        df = pd.read_csv(filename)\n",
    "        df['subj_id'] = filename.split(\"_\")[2]\n",
    "        li_lp.append(df)\n",
    "        \n",
    "    if filename.startswith(\"normalized\") and filename.endswith(\".csv\"):\n",
    "        df = pd.read_csv(filename)\n",
    "        df['subj_id'] = filename.split(\"_\")[2]\n",
    "        li_no.append(df)\n",
    "\n",
    "# Combine data from individual participants into one dataframe\n",
    "df_lowpassed = pd.concat(li_lp)\n",
    "df_normalized = pd.concat(li_no)\n",
    "\n",
    "# Reset Indices\n",
    "df_lowpassed.index = range(len(df_lowpassed))\n",
    "df_normalized.index = range(len(df_normalized))"
   ]
  },
  {
   "cell_type": "markdown",
   "metadata": {},
   "source": [
    "We then want to clean both of these dataframes a bit and only leave L1, L2, and response, so that we can perform analysis.\n",
    "We also want to make sure L1 precedes L2 alphabetically, which will be helpful for grouping later on."
   ]
  },
  {
   "cell_type": "code",
   "execution_count": 19,
   "metadata": {},
   "outputs": [],
   "source": [
    "# only leave the columns we want\n",
    "df_lowpassed = df_lowpassed[['L1', 'L2', 'response']]\n",
    "df_normalized = df_normalized[['L1', 'L2', 'response']]\n",
    "    \n",
    "# swap columns such that L1 preceds L2 alphabetically\n",
    "df_lowpassed.loc[df_lowpassed['L1'] > df_lowpassed['L2'], ['L1', 'L2']] = df_lowpassed.loc[df_lowpassed['L1'] > df_lowpassed['L2'], ['L2', 'L1']].values\n",
    "df_normalized.loc[df_normalized['L1'] > df_normalized['L2'], ['L1', 'L2']] = df_normalized.loc[df_normalized['L1'] > df_normalized['L2'], ['L2', 'L1']].values\n"
   ]
  },
  {
   "cell_type": "markdown",
   "metadata": {},
   "source": [
    "We now want to group by results and create a basic 2D plot that summarizes the results for both normalized and lowpassed data."
   ]
  },
  {
   "cell_type": "code",
   "execution_count": 20,
   "metadata": {},
   "outputs": [
    {
     "data": {
      "image/png": "[encoded data removed]",
      "text/plain": [
       "<Figure size 720x432 with 3 Axes>"
      ]
     },
     "metadata": {
      "needs_background": "light"
     },
     "output_type": "display_data"
    }
   ],
   "source": [
    "# Use groupby to group by L1 and L2\n",
    "df_norm_gb = df_normalized.groupby(['L1', 'L2'], as_index = False)\n",
    "df_lp_gb = df_lowpassed.groupby(['L1', 'L2'], as_index = False)\n",
    "\n",
    "# Create mean dataframes\n",
    "means_norm = df_norm_gb.mean()\n",
    "means_lp = df_lp_gb.mean()\n",
    "\n",
    "# Create 2d Arrays\n",
    "array_norm = [[means_norm.loc[((means_norm['L1'] == lang[i]) & (means_norm['L2'] == lang[j])) |\n",
    "                ((means_norm['L1'] == lang[j]) & (means_norm['L2'] == lang[i])), 'response'].values[0] \n",
    "                  for i in range(len(lang))] \n",
    "                  for j in range(len(lang))]\n",
    "array_lp = [[means_lp.loc[((means_lp['L1'] == lang[i]) & (means_lp['L2'] == lang[j])) |\n",
    "                ((means_lp['L1'] == lang[j]) & (means_lp['L2'] == lang[i])), 'response'].values[0]\n",
    "                  for i in range(len(lang))]\n",
    "                  for j in range(len(lang))]\n",
    "\n",
    "# Plot\n",
    "fig, ax = plt.subplots(1,2, figsize = (10, 6))\n",
    "img = ax[0].imshow(array_norm, vmin = 1, vmax = 7)\n",
    "ax[0].set_xticks(range(len(lang)))\n",
    "ax[0].set_xticklabels(lang)\n",
    "ax[0].set_yticks(range(len(lang)))\n",
    "ax[0].set_yticklabels(lang)\n",
    "ax[0].set_ylim(len(lang)-0.5, -0.5)\n",
    "ax[0].set_title(\"Normalized\")\n",
    "\n",
    "ax[1].imshow(array_lp, vmin = 0, vmax = 7)\n",
    "ax[1].set_xticks(range(len(lang)))\n",
    "ax[1].set_xticklabels(lang)\n",
    "ax[1].set_yticks(range(len(lang)))\n",
    "ax[1].set_yticklabels(lang)\n",
    "ax[1].set_ylim(len(lang)-0.5, -0.5)\n",
    "ax[1].set_title(\"Lowpassed (Frequency = 300 Hz)\")\n",
    "\n",
    "plt.subplots_adjust(bottom=0.1, left=0.05)\n",
    "cax = plt.axes([0.95, 0.2, 0.03, 0.6])\n",
    "plt.colorbar(img, cax=cax)\n",
    "\n",
    "# Save\n",
    "plt.savefig('pilot_results_both.png')"
   ]
  },
  {
   "cell_type": "code",
   "execution_count": 21,
   "metadata": {},
   "outputs": [
    {
     "data": {
      "image/png": "[encoded data removed]",
      "text/plain": [
       "<Figure size 432x288 with 2 Axes>"
      ]
     },
     "metadata": {
      "needs_background": "light"
     },
     "output_type": "display_data"
    }
   ],
   "source": [
    "# Plot Normalized Only\n",
    "fig, ax = plt.subplots()\n",
    "img = ax.imshow(array_norm)\n",
    "ax.set_xticks(range(len(lang)))\n",
    "ax.set_xticklabels(lang)\n",
    "ax.set_yticks(range(len(lang)))\n",
    "ax.set_yticklabels(lang)\n",
    "ax.set_ylim(len(lang)-0.5, -0.5)\n",
    "ax.set_title(\"Normalized\")\n",
    "plt.colorbar(img)\n",
    "\n",
    "plt.savefig('pilot_results_normalized')"
   ]
  },
  {
   "cell_type": "code",
   "execution_count": 22,
   "metadata": {},
   "outputs": [
    {
     "data": {
      "image/png": "[encoded data removed]",
      "text/plain": [
       "<Figure size 432x288 with 2 Axes>"
      ]
     },
     "metadata": {
      "needs_background": "light"
     },
     "output_type": "display_data"
    }
   ],
   "source": [
    "# Plot Lowpassed Only\n",
    "fig, ax = plt.subplots()\n",
    "img = ax.imshow(array_lp)\n",
    "ax.set_xticks(range(len(lang)))\n",
    "ax.set_xticklabels(lang)\n",
    "ax.set_yticks(range(len(lang)))\n",
    "ax.set_yticklabels(lang)\n",
    "ax.set_ylim(len(lang)-0.5, -0.5)\n",
    "ax.set_title(\"Lowpassed (Frequency = 300Hz)\")\n",
    "plt.colorbar(img)\n",
    "\n",
    "plt.savefig('pilot_results_lowpassed')"
   ]
  },
  {
   "cell_type": "code",
   "execution_count": null,
   "metadata": {},
   "outputs": [],
   "source": []
  }
 ],
 "metadata": {
  "kernelspec": {
   "display_name": "Python 3",
   "language": "python",
   "name": "python3"
  },
  "language_info": {
   "codemirror_mode": {
    "name": "ipython",
    "version": 3
   },
   "file_extension": ".py",
   "mimetype": "text/x-python",
   "name": "python",
   "nbconvert_exporter": "python",
   "pygments_lexer": "ipython3",
   "version": "3.7.4"
  }
 },
 "nbformat": 4,
 "nbformat_minor": 2
}
